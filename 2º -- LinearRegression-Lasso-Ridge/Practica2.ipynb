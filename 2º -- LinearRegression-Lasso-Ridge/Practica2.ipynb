{
 "cells": [
  {
   "cell_type": "markdown",
   "source": [
    "<h1> Segunda Práctica <h1>\n",
    "\n",
    "En esta segunda práctica pruebo los diferentes resultados de varias regresiones lineales tanto centradas en el (0,0) como descentradas"
   ],
   "metadata": {
    "collapsed": false
   }
  },
  {
   "cell_type": "markdown",
   "source": [
    "#### Importamos las librerías necesarias para trabajar\n",
    "\n",
    "La mas destacable es sklearn, pues es la librería con las regresiones lineales."
   ],
   "metadata": {
    "collapsed": false
   }
  },
  {
   "cell_type": "code",
   "metadata": {
    "collapsed": true,
    "pycharm": {
     "name": "#%%\n"
    }
   },
   "source": [
    "import pandas as pd\n",
    "from sklearn.linear_model import LinearRegression, Ridge, Lasso\n",
    "from sklearn.metrics import mean_squared_error\n",
    "from sklearn.model_selection import train_test_split\n",
    "import matplotlib.pyplot as plt\n",
    "import numpy as np\n",
    "import string"
   ],
   "execution_count": 7,
   "outputs": []
  },
  {
   "cell_type": "markdown",
   "source": [
    "#### Transformamos los datos\n",
    "\n",
    "Los datos son los tiempos de diferentes corredores pasando por 6 puntos de control y la llegada a la meta. Como no nos interesa la hora y segundos, lo pasamos todo a minutos con una simple función que usa el método \"to_datetime\" de pandas para así trabajar de forma más sencilla:"
   ],
   "metadata": {
    "collapsed": false
   }
  },
  {
   "cell_type": "code",
   "execution_count": 8,
   "outputs": [
    {
     "data": {
      "text/plain": "    P1   P2   P3   P4   P5   P6  T_Final\n0  172  254  356  385  514  636      703\n1  163  253  371  408  556  674      738\n2  188  279  389  419  580  728      803\n3  195  288  397  425  579  729      800\n4  195  296  415  453  619  766      863",
      "text/html": "<div>\n<style scoped>\n    .dataframe tbody tr th:only-of-type {\n        vertical-align: middle;\n    }\n\n    .dataframe tbody tr th {\n        vertical-align: top;\n    }\n\n    .dataframe thead th {\n        text-align: right;\n    }\n</style>\n<table border=\"1\" class=\"dataframe\">\n  <thead>\n    <tr style=\"text-align: right;\">\n      <th></th>\n      <th>P1</th>\n      <th>P2</th>\n      <th>P3</th>\n      <th>P4</th>\n      <th>P5</th>\n      <th>P6</th>\n      <th>T_Final</th>\n    </tr>\n  </thead>\n  <tbody>\n    <tr>\n      <th>0</th>\n      <td>172</td>\n      <td>254</td>\n      <td>356</td>\n      <td>385</td>\n      <td>514</td>\n      <td>636</td>\n      <td>703</td>\n    </tr>\n    <tr>\n      <th>1</th>\n      <td>163</td>\n      <td>253</td>\n      <td>371</td>\n      <td>408</td>\n      <td>556</td>\n      <td>674</td>\n      <td>738</td>\n    </tr>\n    <tr>\n      <th>2</th>\n      <td>188</td>\n      <td>279</td>\n      <td>389</td>\n      <td>419</td>\n      <td>580</td>\n      <td>728</td>\n      <td>803</td>\n    </tr>\n    <tr>\n      <th>3</th>\n      <td>195</td>\n      <td>288</td>\n      <td>397</td>\n      <td>425</td>\n      <td>579</td>\n      <td>729</td>\n      <td>800</td>\n    </tr>\n    <tr>\n      <th>4</th>\n      <td>195</td>\n      <td>296</td>\n      <td>415</td>\n      <td>453</td>\n      <td>619</td>\n      <td>766</td>\n      <td>863</td>\n    </tr>\n  </tbody>\n</table>\n</div>"
     },
     "execution_count": 8,
     "metadata": {},
     "output_type": "execute_result"
    }
   ],
   "source": [
    "\n",
    "def transform_column(x):\n",
    "    x = pd.to_datetime(x)\n",
    "    return (x.dt.hour * 60) + x.dt.minute\n",
    "\n",
    "df = pd.read_csv(\"tiempos.csv\", sep=\";\")\n",
    "\n",
    "df = df.apply(lambda x: transform_column(x))\n",
    "df.head()"
   ],
   "metadata": {
    "collapsed": false,
    "pycharm": {
     "name": "#%%\n"
    }
   }
  },
  {
   "cell_type": "markdown",
   "source": [],
   "metadata": {
    "collapsed": false
   }
  },
  {
   "cell_type": "markdown",
   "source": [
    "## Primer apartado, \"Linear Regression\""
   ],
   "metadata": {
    "collapsed": false
   }
  },
  {
   "cell_type": "markdown",
   "source": [
    "##### En toda regresión lineal el objetivo es encontrar el conjunto de pesos que disminuya lo máximo posible el error, y en consecuencia, este más ajustada a los datos. La fórmula del error es:\n",
    "\n",
    "\n",
    "\n",
    "$J_w = \\frac{1}{m} \\sum_{i=1}^{1} (yi - yi)^2$\n"
   ],
   "metadata": {
    "collapsed": false
   }
  },
  {
   "cell_type": "markdown",
   "source": [
    "Primero tomamos los puntos de control como un primer conjunto de datos, y el tiempo final como otro. La intención es entrenar la regresión lineal, para que dados unos tiempos en los puntos de control, determine el tiempo final. De esta forma obtenemos un train y un test de cada conjunto enviado a la función \"train_test_split\" de sklearn, a la cuál le añadimos el parámetro \"train_size\" para que el entrenamiento se componga de un 70% de los datos y el test el 30% restante."
   ],
   "metadata": {
    "collapsed": false
   }
  },
  {
   "cell_type": "code",
   "execution_count": 9,
   "outputs": [],
   "source": [
    "trainx, testx, trainy, testy = train_test_split(df[df.columns[0:6]],df[\"T_Final\"], train_size = 0.7, random_state=111)"
   ],
   "metadata": {
    "collapsed": false,
    "pycharm": {
     "name": "#%%\n"
    }
   }
  },
  {
   "cell_type": "markdown",
   "source": [
    "Si se asigna </b>fit_intercept=False</b> al crear el objeto de una regresion lineal, no se centran las muestras. Básicamente lo que decide este parámetro es si a los datos se les restará la media."
   ],
   "metadata": {
    "collapsed": false
   }
  },
  {
   "cell_type": "markdown",
   "source": [
    "Comenzamos a trabajar con el modelo, primero la opción sin centrar y luego con los datos centrados. Cada caso se entrena con los datos de train, y se comprueba su error cuadrático con la función <b>mean_squared_error</b> y los conjuntos test."
   ],
   "metadata": {
    "collapsed": false
   }
  },
  {
   "cell_type": "code",
   "execution_count": 10,
   "outputs": [
    {
     "data": {
      "text/plain": "17.17054162375292"
     },
     "execution_count": 10,
     "metadata": {},
     "output_type": "execute_result"
    }
   ],
   "source": [
    "Lr = LinearRegression(fit_intercept=False)\n",
    "Lr.fit(trainx, trainy)\n",
    "mean_squared_error(testy, Lr.predict(testx), squared = False)"
   ],
   "metadata": {
    "collapsed": false,
    "pycharm": {
     "name": "#%%\n"
    }
   }
  },
  {
   "cell_type": "code",
   "execution_count": 11,
   "outputs": [
    {
     "data": {
      "text/plain": "17.358093260810744"
     },
     "execution_count": 11,
     "metadata": {},
     "output_type": "execute_result"
    }
   ],
   "source": [
    "Lrc = LinearRegression(fit_intercept = True)\n",
    "Lrc.fit(trainx, trainy)\n",
    "mean_squared_error(testy, Lrc.predict(testx), squared = False)"
   ],
   "metadata": {
    "collapsed": false,
    "pycharm": {
     "name": "#%%\n"
    }
   }
  },
  {
   "cell_type": "markdown",
   "source": [
    "Como podemos comprobar, aunque los errores cuadráticos son muy similares en ambos casos, al centrar las muestras es un poco mayor, lo que indica en parte un peor ajuste.\n",
    "\n",
    "#### A continuación imprimo los coeficientes del caso sin centrar en forma de histograma:\n"
   ],
   "metadata": {
    "collapsed": false,
    "pycharm": {
     "name": "#%% md\n"
    }
   }
  },
  {
   "cell_type": "code",
   "execution_count": 12,
   "outputs": [
    {
     "data": {
      "text/plain": "<Figure size 432x288 with 1 Axes>",
      "image/png": "[encoded data removed]"
     },
     "metadata": {
      "needs_background": "light"
     },
     "output_type": "display_data"
    }
   ],
   "source": [
    "\n",
    "\n",
    "etiquetas = list(string.ascii_uppercase)[:6]\n",
    "x = np.arange(Lr.coef_.size)\n",
    "y1 = Lr.coef_.tolist()\n",
    "y2 = Lrc.coef_.tolist()\n",
    "ax = plt.subplot(111)\n",
    "ax.bar(x, y1, width=0.3, color='blue')\n",
    "ax.bar(x-0.3, y2, width=0.3, color='red')\n",
    "ax.set_xlabel('Coeficientes')\n",
    "ax.set_ylabel('Valor de cada uno')\n",
    "ax.set_xticks(x-0.15, etiquetas)\n",
    "ax.legend(['Coeficientes descentrados', 'Coeficientes centrados'])\n",
    "ax.set_title('Gráfico de Barras')\n",
    "ax.grid()\n",
    "plt.show()\n"
   ],
   "metadata": {
    "collapsed": false,
    "pycharm": {
     "name": "#%%\n"
    }
   }
  },
  {
   "cell_type": "markdown",
   "source": [
    "Como podemos comprobar los coeficientes son muy parecidos, probablemente porque ya de por sí las muestras son muy cercanas al 0."
   ],
   "metadata": {
    "collapsed": false,
    "pycharm": {
     "name": "#%% md\n"
    }
   }
  },
  {
   "cell_type": "markdown",
   "source": [
    "### Segundo apartado, regresiones lineales con regularización"
   ],
   "metadata": {
    "collapsed": false
   }
  },
  {
   "cell_type": "markdown",
   "source": [
    "##### En estos dos casos que trataremos ahora, siguen siendo regresiones lineales que tratan de minimizar el error con combinaciones de coeficinetes, sin embargo, en su fórmula se añade una lambda que multiplica a una variante de la suma de los pesos, que a su vez se suma a la ecuación inicial."
   ],
   "metadata": {
    "collapsed": false
   }
  },
  {
   "cell_type": "markdown",
   "source": [
    "Ahora trataremos con los modelos Ridge y Lasso, comenzando por Ridge con el mismo procedimiento. Los lambdas para las pruebas serán 1, 5 y 15. De nuevo comenzaremos primero con los datos sin centrar y luego centrados."
   ],
   "metadata": {
    "collapsed": false
   }
  },
  {
   "cell_type": "markdown",
   "source": [
    "En Ridge, <b>lambda</b> multiplica a la suma de los pesos al cuadrado, y en Lasso a la suma de los valores absolutos de cada peso."
   ],
   "metadata": {
    "collapsed": false
   }
  },
  {
   "cell_type": "code",
   "execution_count": 13,
   "outputs": [
    {
     "name": "stdout",
     "output_type": "stream",
     "text": [
      "17.170729779587372\n",
      "17.171481893879143\n",
      "17.17335867352651\n"
     ]
    }
   ],
   "source": [
    "L21 = Ridge(alpha=1.0, fit_intercept=False)\n",
    "L22 = Ridge(alpha=5.0, fit_intercept=False)\n",
    "L23 = Ridge(alpha=15.0, fit_intercept=False)\n",
    "\n",
    "L21.fit(trainx,trainy)\n",
    "L22.fit(trainx,trainy)\n",
    "L23.fit(trainx,trainy)\n",
    "\n",
    "print(mean_squared_error(testy, L21.predict(testx), squared = False))\n",
    "print(mean_squared_error(testy, L22.predict(testx), squared = False))\n",
    "print(mean_squared_error(testy, L23.predict(testx), squared = False))"
   ],
   "metadata": {
    "collapsed": false,
    "pycharm": {
     "name": "#%%\n"
    }
   }
  },
  {
   "cell_type": "markdown",
   "source": [
    "De nuevo, una vez hemos creado los diferentes casos sin centrar, y los hemos entrenado, procedemos a ver su herror cuadrático.\n",
    "Como podemos comprobar, el error es menor, conforme más alto es <b>lambda</b> y por tanto mejor, pero no sustancialmente.\n",
    "\n",
    "Ahora los casos centrado:"
   ],
   "metadata": {
    "collapsed": false
   }
  },
  {
   "cell_type": "code",
   "execution_count": 14,
   "outputs": [
    {
     "name": "stdout",
     "output_type": "stream",
     "text": [
      "17.35825987341846\n",
      "17.358925489192007\n",
      "17.360583733201896\n"
     ]
    }
   ],
   "source": [
    "L21c = Ridge(alpha=1.0, fit_intercept = True)\n",
    "L22c = Ridge(alpha=5.0, fit_intercept = True)\n",
    "L23c = Ridge(alpha=15.0, fit_intercept = True)\n",
    "\n",
    "L21c.fit(trainx,trainy)\n",
    "L22c.fit(trainx,trainy)\n",
    "L23c.fit(trainx,trainy)\n",
    "\n",
    "print(mean_squared_error(testy, L21c.predict(testx), squared = False))\n",
    "print(mean_squared_error(testy, L22c.predict(testx), squared = False))\n",
    "print(mean_squared_error(testy, L23c.predict(testx), squared = False))\n"
   ],
   "metadata": {
    "collapsed": false,
    "pycharm": {
     "name": "#%%\n"
    }
   }
  },
  {
   "cell_type": "markdown",
   "source": [
    "Mismo caso anterior, pero los errores son un poco mayores."
   ],
   "metadata": {
    "collapsed": false
   }
  },
  {
   "cell_type": "markdown",
   "source": [
    "Para los valores 1 y 15 de <b>lambda</b>, veremos las diferencias en histogramas, tanto centrado como sin centrar:"
   ],
   "metadata": {
    "collapsed": false
   }
  },
  {
   "cell_type": "code",
   "execution_count": 15,
   "outputs": [
    {
     "data": {
      "text/plain": "<Figure size 432x288 with 1 Axes>",
      "image/png": "[encoded data removed]"
     },
     "metadata": {
      "needs_background": "light"
     },
     "output_type": "display_data"
    }
   ],
   "source": [
    "y1 = L21.coef_.tolist()\n",
    "y2 = L23.coef_.tolist()\n",
    "ax = plt.subplot(111)\n",
    "ax.bar(x, y1, width=0.3, color='blue')\n",
    "ax.bar(x-0.3, y2, width=0.3, color='red')\n",
    "ax.set_xlabel('Coeficientes')\n",
    "ax.set_ylabel('Valor de cada uno')\n",
    "ax.set_xticks(x-0.15, etiquetas)\n",
    "ax.legend(['Lambda = 1', 'Lambda = 15'])\n",
    "ax.set_title('Gráfico de Barras de coeficientes sin centrar con Ridge')\n",
    "ax.grid()\n",
    "plt.show()\n",
    "\n",
    "\n",
    "\n"
   ],
   "metadata": {
    "collapsed": false,
    "pycharm": {
     "name": "#%%\n"
    }
   }
  },
  {
   "cell_type": "markdown",
   "source": [
    "Ahora centrados"
   ],
   "metadata": {
    "collapsed": false
   }
  },
  {
   "cell_type": "code",
   "execution_count": 16,
   "outputs": [
    {
     "data": {
      "text/plain": "<Figure size 432x288 with 1 Axes>",
      "image/png": "[encoded data removed]"
     },
     "metadata": {
      "needs_background": "light"
     },
     "output_type": "display_data"
    }
   ],
   "source": [
    "\n",
    "\n",
    "y1 = L21c.coef_.tolist()\n",
    "y2 = L23c.coef_.tolist()\n",
    "ax = plt.subplot(111)\n",
    "ax.bar(x, y1, width=0.3, color='blue')\n",
    "ax.bar(x-0.3, y2, width=0.3, color='red')\n",
    "ax.set_xlabel('Coeficientes')\n",
    "ax.set_ylabel('Valor de cada uno')\n",
    "ax.set_xticks(x-0.15, etiquetas)\n",
    "ax.legend(['Lambda = 1', 'Lambda = 15'])\n",
    "ax.set_title('Gráfico de Barras de coeficientes centrados con Ridge')\n",
    "ax.grid()\n",
    "plt.show()"
   ],
   "metadata": {
    "collapsed": false,
    "pycharm": {
     "name": "#%%\n"
    }
   }
  },
  {
   "cell_type": "markdown",
   "source": [],
   "metadata": {
    "collapsed": false
   }
  },
  {
   "cell_type": "markdown",
   "source": [
    "La principal diferencia en estos barplots, es que, como debe ser, las muestras centradas comienza con unos pesos más cercanos al 0."
   ],
   "metadata": {
    "collapsed": false
   }
  },
  {
   "cell_type": "markdown",
   "source": [
    "### Caso de la regression Lasso"
   ],
   "metadata": {
    "collapsed": false
   }
  },
  {
   "cell_type": "code",
   "execution_count": 17,
   "outputs": [
    {
     "name": "stdout",
     "output_type": "stream",
     "text": [
      "27.083230636202106\n",
      "26.905297455336957\n",
      "26.47480025599876\n"
     ]
    },
    {
     "name": "stderr",
     "output_type": "stream",
     "text": [
      "C:\\Users\\david\\AppData\\Local\\Programs\\Python\\Python310\\lib\\site-packages\\sklearn\\linear_model\\_coordinate_descent.py:647: ConvergenceWarning: Objective did not converge. You might want to increase the number of iterations, check the scale of the features or consider increasing regularisation. Duality gap: 3.420e+04, tolerance: 1.435e+04\n",
      "  model = cd_fast.enet_coordinate_descent(\n",
      "C:\\Users\\david\\AppData\\Local\\Programs\\Python\\Python310\\lib\\site-packages\\sklearn\\linear_model\\_coordinate_descent.py:647: ConvergenceWarning: Objective did not converge. You might want to increase the number of iterations, check the scale of the features or consider increasing regularisation. Duality gap: 3.596e+04, tolerance: 1.435e+04\n",
      "  model = cd_fast.enet_coordinate_descent(\n",
      "C:\\Users\\david\\AppData\\Local\\Programs\\Python\\Python310\\lib\\site-packages\\sklearn\\linear_model\\_coordinate_descent.py:647: ConvergenceWarning: Objective did not converge. You might want to increase the number of iterations, check the scale of the features or consider increasing regularisation. Duality gap: 3.951e+04, tolerance: 1.435e+04\n",
      "  model = cd_fast.enet_coordinate_descent(\n"
     ]
    }
   ],
   "source": [
    "\n",
    "L11 = Lasso(alpha=1.0, fit_intercept=False)\n",
    "L12 = Lasso(alpha=5.0, fit_intercept=False)\n",
    "L13 = Lasso(alpha=15.0, fit_intercept=False)\n",
    "\n",
    "L11.fit(trainx,trainy)\n",
    "L12.fit(trainx,trainy)\n",
    "L13.fit(trainx,trainy)\n",
    "\n",
    "print(mean_squared_error(testy, L11.predict(testx), squared = False))\n",
    "print(mean_squared_error(testy, L12.predict(testx), squared = False))\n",
    "print(mean_squared_error(testy, L13.predict(testx), squared = False))"
   ],
   "metadata": {
    "collapsed": false,
    "pycharm": {
     "name": "#%%\n"
    }
   }
  },
  {
   "cell_type": "markdown",
   "source": [
    "De nuevo conforme mayor es el lambda, menor es el error."
   ],
   "metadata": {
    "collapsed": false
   }
  },
  {
   "cell_type": "markdown",
   "source": [
    "Ahora los casos de Lasso centrados:"
   ],
   "metadata": {
    "collapsed": false
   }
  },
  {
   "cell_type": "code",
   "execution_count": 18,
   "outputs": [
    {
     "name": "stdout",
     "output_type": "stream",
     "text": [
      "17.431363865449534\n",
      "17.510180252068317\n",
      "17.583699432496147\n"
     ]
    }
   ],
   "source": [
    "L11c = Lasso(alpha=1.0, fit_intercept = True)\n",
    "L12c = Lasso(alpha=5.0, fit_intercept = True)\n",
    "L13c = Lasso(alpha=15.0, fit_intercept = True)\n",
    "\n",
    "\n",
    "L11c.fit(trainx,trainy)\n",
    "L12c.fit(trainx,trainy)\n",
    "L13c.fit(trainx,trainy)\n",
    "\n",
    "\n",
    "print(mean_squared_error(testy, L11c.predict(testx), squared = False))\n",
    "print(mean_squared_error(testy, L12c.predict(testx), squared = False))\n",
    "print(mean_squared_error(testy, L13c.predict(testx), squared = False))"
   ],
   "metadata": {
    "collapsed": false,
    "pycharm": {
     "name": "#%%\n"
    }
   }
  },
  {
   "cell_type": "markdown",
   "source": [
    "En este caso, las centradas son considerablemente menores, y por tanto mejores, a parte, como en todos los casos anteriores a mayor lambda menor error."
   ],
   "metadata": {
    "collapsed": false
   }
  },
  {
   "cell_type": "code",
   "execution_count": 19,
   "outputs": [
    {
     "data": {
      "text/plain": "<Figure size 432x288 with 1 Axes>",
      "image/png": "[encoded data removed]"
     },
     "metadata": {
      "needs_background": "light"
     },
     "output_type": "display_data"
    }
   ],
   "source": [
    "\n",
    "y1 = L11.coef_.tolist()\n",
    "y2 = L13.coef_.tolist()\n",
    "ax = plt.subplot(111)\n",
    "ax.bar(x, y1, width=0.3, color='blue')\n",
    "ax.bar(x-0.3, y2, width=0.3, color='red')\n",
    "ax.set_xlabel('Coeficientes')\n",
    "ax.set_ylabel('Valor de cada uno')\n",
    "ax.set_xticks(x-0.15, etiquetas)\n",
    "ax.legend(['Lambda = 1', 'Lambda = 15'])\n",
    "ax.set_title('Gráfico de Barras de coeficientes sin centrar con Lasso')\n",
    "ax.grid()\n",
    "plt.show()\n"
   ],
   "metadata": {
    "collapsed": false,
    "pycharm": {
     "name": "#%%\n"
    }
   }
  },
  {
   "cell_type": "code",
   "execution_count": 20,
   "outputs": [
    {
     "data": {
      "text/plain": "<Figure size 432x288 with 1 Axes>",
      "image/png": "[encoded data removed]"
     },
     "metadata": {
      "needs_background": "light"
     },
     "output_type": "display_data"
    }
   ],
   "source": [
    "#plt.bar(np.arange(L13.coef_.size), height = L11c.coef_.tolist())\n",
    "#plt.show()\n",
    "#plt.bar(np.arange(L13.coef_.size), height = L13c.coef_.tolist())\n",
    "#plt.show()\n",
    "\n",
    "y1 = L11c.coef_.tolist()\n",
    "y2 = L13c.coef_.tolist()\n",
    "ax = plt.subplot(111)\n",
    "ax.bar(x, y1, width=0.3, color='blue')\n",
    "ax.bar(x-0.3, y2, width=0.3, color='red')\n",
    "ax.set_xlabel('Coeficientes')\n",
    "ax.set_ylabel('Valor de cada uno')\n",
    "ax.set_xticks(x-0.15, etiquetas)\n",
    "ax.legend(['Lambda = 1', 'Lambda = 15'])\n",
    "ax.set_title('Gráfico de Barras de coeficientes centrados con Lasso')\n",
    "ax.grid()\n",
    "plt.show()"
   ],
   "metadata": {
    "collapsed": false,
    "pycharm": {
     "name": "#%%\n"
    }
   }
  },
  {
   "cell_type": "markdown",
   "source": [],
   "metadata": {
    "collapsed": false,
    "pycharm": {
     "name": "#%% md\n"
    }
   }
  }
 ],
 "metadata": {
  "kernelspec": {
   "display_name": "Python 3",
   "language": "python",
   "name": "python3"
  },
  "language_info": {
   "codemirror_mode": {
    "name": "ipython",
    "version": 2
   },
   "file_extension": ".py",
   "mimetype": "text/x-python",
   "name": "python",
   "nbconvert_exporter": "python",
   "pygments_lexer": "ipython2",
   "version": "2.7.6"
  }
 },
 "nbformat": 4,
 "nbformat_minor": 0
}