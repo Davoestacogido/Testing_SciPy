{
 "cells": [
  {
   "cell_type": "markdown",
   "metadata": {},
   "source": [
    "# Práctica 4:Perceptrón\n",
    "\n",
    "##### Uno de los primeros algoritmos de aprendizaje automático fue el perceptrón, que permite aprender el conjunto de pesos de una función discriminante para dividir dos clases linealmente separables. La primera parte de esta práctica está dedicada a mostrar un ejemplo del Perceptrón."
   ]
  },
  {
   "cell_type": "markdown",
   "metadata": {},
   "source": [
    "Realizo los importes necesarios."
   ]
  },
  {
   "cell_type": "code",
   "execution_count": 1,
   "metadata": {
    "collapsed": true
   },
   "outputs": [],
   "source": [
    "from sklearn.datasets import make_blobs\n",
    "from sklearn.model_selection import train_test_split\n",
    "from sklearn.linear_model import Perceptron, SGDClassifier\n",
    "import numpy as np\n",
    "import matplotlib.pyplot as plt"
   ]
  },
  {
   "cell_type": "markdown",
   "metadata": {},
   "source": [
    "Aquí genero las muestras de dos dimensiones siendo dos clases de 15 muestras cada una. Uno de los grupos lo centro en el 0,0 y el otro en el 10, 10 para que sean linealmente separables. Para ello, utilizo la función make_blobs."
   ]
  },
  {
   "cell_type": "code",
   "execution_count": 15,
   "metadata": {
    "pycharm": {
     "name": "#%%\n"
    }
   },
   "outputs": [],
   "source": [
    "centers = np.array([[0,0],[10,10]])\n",
    "X, y = make_blobs(n_samples=30, n_features=2,random_state=0, centers=centers)"
   ]
  },
  {
   "cell_type": "markdown",
   "metadata": {},
   "source": [
    "Divido en entrenamiento y test con un 70% para entrenamiento, como en la anterior práctica."
   ]
  },
  {
   "cell_type": "code",
   "execution_count": 16,
   "metadata": {
    "pycharm": {
     "name": "#%%\n"
    }
   },
   "outputs": [],
   "source": [
    "trainx, testx, trainy, testy = train_test_split(X, y, train_size=0.7,random_state=0)"
   ]
  },
  {
   "cell_type": "markdown",
   "metadata": {},
   "source": [
    "Entreno las muestras en el perceptron."
   ]
  },
  {
   "cell_type": "code",
   "execution_count": 17,
   "metadata": {
    "pycharm": {
     "name": "#%%\n"
    }
   },
   "outputs": [
    {
     "data": {
      "text/plain": "Perceptron()"
     },
     "execution_count": 17,
     "metadata": {},
     "output_type": "execute_result"
    }
   ],
   "source": [
    "p = Perceptron()\n",
    "p.fit(trainx,trainy)"
   ]
  },
  {
   "cell_type": "markdown",
   "metadata": {},
   "source": [
    "A continuación divido ambos grupos de datos dibujando una recta con los pesos obtenidos de la fórmula. Los ejes son las dos dimensiones de los datos."
   ]
  },
  {
   "cell_type": "code",
   "execution_count": 18,
   "metadata": {
    "pycharm": {
     "name": "#%%\n"
    }
   },
   "outputs": [
    {
     "data": {
      "text/plain": "<Figure size 432x288 with 1 Axes>",
      "image/png": "[encoded data removed]"
     },
     "metadata": {
      "needs_background": "light"
     },
     "output_type": "display_data"
    }
   ],
   "source": [
    "x1 = X[:, 0]\n",
    "x2 = X[:, 1]\n",
    "color = ['red' if value == 1 else 'blue' for value in y]\n",
    "plt.scatter(x1, x2, marker='o', color=color)\n",
    "plt.xlabel('X1 input feature')\n",
    "plt.ylabel('X2 input feature')\n",
    "plt.title('Perceptron regression for X1, X2')\n",
    "\n",
    "slope = -(p.coef_[0][0]/p.coef_[0][1])\n",
    "intercept = -p.intercept_/p.coef_[0][1]\n",
    "Y = (slope*x1) + intercept\n",
    "plt.plot(x1, Y, color = \"green\")\n",
    "plt.show()\n"
   ]
  },
  {
   "cell_type": "markdown",
   "metadata": {},
   "source": [
    "Como podemos observar, gracias a centrar los datos en diferentes puntos, son linealmente separables. Por otro lado la recta dibujada por el Perceptron divide perfectamente ambos grupos, por lo tanto, es un buen ajuste.\n",
    "\n",
    "A continuación utilizo la función \"decision_function\" para comprobar con los pesos actuales, cuantos valores del grupo test separa correctamente."
   ]
  },
  {
   "cell_type": "code",
   "execution_count": 19,
   "metadata": {
    "pycharm": {
     "name": "#%%\n"
    }
   },
   "outputs": [
    {
     "data": {
      "text/plain": "1.0"
     },
     "execution_count": 19,
     "metadata": {},
     "output_type": "execute_result"
    }
   ],
   "source": [
    "\n",
    "sum(np.equal(np.greater(SGDClassifier.decision_function(p, testx), np.zeros(shape=testx.shape[0])), testy )) / testx.shape[0]\n"
   ]
  },
  {
   "cell_type": "markdown",
   "metadata": {},
   "source": [
    "Utilizando diferentes funciones de numpy hallamos en un porcentaje el acierto, que es de un 100%. Por lo tanto, es un ajuste perfecto.\n",
    "\n",
    "A continuación, crearé otro ejemplo pero con tres clases diferentes de nuevo,las clases las centraré en diferentes puntos, pero más cercanos para forzar más el algoritmo."
   ]
  },
  {
   "cell_type": "code",
   "execution_count": 20,
   "metadata": {
    "pycharm": {
     "name": "#%%\n"
    }
   },
   "outputs": [],
   "source": [
    "centers = np.array([[0,0],[0,5],[5,0]])\n",
    "X, y = make_blobs(n_samples=30, n_features=2,random_state=5, centers=centers)\n"
   ]
  },
  {
   "cell_type": "markdown",
   "metadata": {},
   "source": [
    "Divido los nuevos datos:"
   ]
  },
  {
   "cell_type": "code",
   "execution_count": 21,
   "metadata": {
    "pycharm": {
     "name": "#%%\n"
    }
   },
   "outputs": [],
   "source": [
    "trainx, testx, trainy, testy = train_test_split(X, y, train_size=0.7,random_state=5)"
   ]
  },
  {
   "cell_type": "markdown",
   "metadata": {},
   "source": [
    "Creo de vuelta el perceptrón y lo vuelvo a entrenar."
   ]
  },
  {
   "cell_type": "code",
   "execution_count": 22,
   "metadata": {
    "pycharm": {
     "name": "#%%\n"
    }
   },
   "outputs": [
    {
     "data": {
      "text/plain": "array([[-2.61942104, -4.44111512],\n       [-0.78719348,  1.97464454],\n       [ 3.46617921, -1.93861589]])"
     },
     "execution_count": 22,
     "metadata": {},
     "output_type": "execute_result"
    }
   ],
   "source": [
    "reg = Perceptron()\n",
    "reg.fit(trainx,trainy)\n",
    "reg.coef_"
   ]
  },
  {
   "cell_type": "markdown",
   "metadata": {},
   "source": [
    "A diferencia del anterior, este Perceptrón tiene 6 coeficientes en lugar de 2. Esto se debe a que, al ser tres grupos de datos en dos dimensiones, no son linealmente separables por una recta, por lo que el perceptrón crea varias rectas, cada una separa un grupo del resto."
   ]
  },
  {
   "cell_type": "markdown",
   "metadata": {},
   "source": [
    "De nuevo, dibujo el diagrama pero esta vez dibujo tres rectas."
   ]
  },
  {
   "cell_type": "code",
   "execution_count": 23,
   "metadata": {
    "pycharm": {
     "name": "#%%\n"
    }
   },
   "outputs": [
    {
     "data": {
      "text/plain": "<Figure size 432x288 with 1 Axes>",
      "image/png": "[encoded data removed]"
     },
     "metadata": {
      "needs_background": "light"
     },
     "output_type": "display_data"
    }
   ],
   "source": [
    "\n",
    "x1 = X[:, 0]\n",
    "x2 = X[:, 1]\n",
    "def colorfunc(value):\n",
    "    if value == 2: return \"green\"\n",
    "    if value == 1: return \"blue\"\n",
    "    if value == 0: return \"red\"\n",
    "\n",
    "\n",
    "color = [colorfunc(value)  for value in y]\n",
    "\n",
    "\n",
    "plt.scatter(x1, x2, marker='o', color=color)\n",
    "plt.xlabel('X1 input feature')\n",
    "plt.ylabel('X2 input feature')\n",
    "plt.title('Perceptron regression for X1, X2 with 3 groups')\n",
    "\n",
    "colors=[\"red\",\"blue\",\"green\"]\n",
    "for i in range(reg.coef_.shape[0]):\n",
    "    slope = -(reg.coef_[i][0]/reg.coef_[i][1])\n",
    "    intercept = -reg.intercept_[i]/reg.coef_[i][1]\n",
    "    Y = (slope*x1)\n",
    "    Y+= + intercept\n",
    "    plt.plot(x1, Y, color = colors[i])\n",
    "\n",
    "plt.show()"
   ]
  },
  {
   "cell_type": "markdown",
   "metadata": {},
   "source": [
    "Como podemos comprobar se han dibujado las tres rectas correctamente, encargándose cada una de dividr un grupo del resto. Cada recta tiene el color del grupo que divide. Sin embargo, a diferemcia del caso anterior, hay diferentes muestras que no parecen estar bien clasificadas, para averiguarlo utilizo de nuevo la función \"decision_function\""
   ]
  },
  {
   "cell_type": "code",
   "execution_count": 24,
   "metadata": {
    "pycharm": {
     "name": "#%%\n"
    }
   },
   "outputs": [
    {
     "data": {
      "text/plain": "0.8888888888888888"
     },
     "execution_count": 24,
     "metadata": {},
     "output_type": "execute_result"
    }
   ],
   "source": [
    "#\n",
    "classifier = SGDClassifier.decision_function(reg, testx)\n",
    "temp = np.zeros(shape=testy.shape)\n",
    "temp[np.where(classifier > 0)[0]] = (np.where(classifier > 0)[1] + 1)\n",
    "\n",
    "sum(np.equal(temp, (testy + 1))) / testx.shape[0]"
   ]
  },
  {
   "cell_type": "markdown",
   "metadata": {},
   "source": [
    "Tras ciertos cálculos con numpy, compruebo que divide de forma correcta un 88.8%, a diferencia del 100% anterior. Esto se puede deber a un sobreajuste con los datos de entrenamiento, en cualquier caso, el ajuste no es perfecto pero es bueno."
   ]
  },
  {
   "cell_type": "markdown",
   "metadata": {},
   "source": [
    "### Tarea 2, implementación"
   ]
  },
  {
   "cell_type": "markdown",
   "metadata": {
    "pycharm": {
     "name": "#%% md\n"
    }
   },
   "source": [
    "##### Para terminar esta práctica implementamos el Perceptron en un módulo llamado lineal, con las funciones fit y predict para 2 clases."
   ]
  },
  {
   "cell_type": "markdown",
   "metadata": {},
   "source": [
    "En el módulo implementado el objeto \"Perceptron\" tiene los siguientes parámetros:\n",
    "\n",
    "-max_iter es el número máximo de iteraciones del método.\n",
    "-mezclar indica si se deben mezclar las muestras después de cada época\n",
    "-eta0 se corresponde con la fracción de la muestra mal clasificada por la que se actualiza el vector de pesos.\n",
    "-semilla valor al que inicializar el generador de números aleatorios.\n",
    "\n",
    "Una vez creado el objeto, se puede entrenar utilizado el método fit, y enviándo de parámetros 2 numpys arrays, el primero representando el conjunto de entrenamiento con tantas columnas como características y filas como muestras. El segundo array sera unidimensional indicando la clase (0 o 1) de cada muestra. El otro método es el predict, que se le envía un conjunto de entrenamiento del mismo formato que antes, y devuelve un numpy array unidimensional con la clase que el modelo predice para cada muestra.\n",
    "\n",
    "Comenzaremos mostrando un ejemplo con las mismas características que la primera prueba, pero usando el módulo implementado:"
   ]
  },
  {
   "cell_type": "code",
   "execution_count": 27,
   "metadata": {
    "pycharm": {
     "name": "#%%\n"
    }
   },
   "outputs": [
    {
     "data": {
      "text/plain": "<Figure size 432x288 with 1 Axes>",
      "image/png": "[encoded data removed]"
     },
     "metadata": {
      "needs_background": "light"
     },
     "output_type": "display_data"
    }
   ],
   "source": [
    "import lineal\n",
    "centers = np.array([[0,0],[10,10]])\n",
    "X, y = make_blobs(n_samples=30, n_features=2,random_state=0, centers=centers)\n",
    "trainx, testx, trainy, testy = train_test_split(X, y, train_size=0.7,random_state=0)\n",
    "percep = lineal.Perceptron(max_iter=50,mezclar=False,eta0=0.01,semilla=2)\n",
    "percep.fit(trainx,trainy)\n",
    "\n",
    "x1 = X[:, 0]\n",
    "x2 = X[:, 1]\n",
    "color = ['red' if value == 1 else 'blue' for value in y]\n",
    "plt.scatter(x1, x2, marker='o', color=color)\n",
    "plt.xlabel('X1 input feature')\n",
    "plt.ylabel('X2 input feature')\n",
    "plt.title('Perceptron regression for X1, X2')\n",
    "slope = -(percep.pesos_[1]/percep.pesos_[2])\n",
    "intercept = -percep.pesos_[0]/percep.pesos_[2]\n",
    "Y = (slope*x1) + intercept\n",
    "plt.plot(x1, Y, color = \"green\")\n",
    "plt.show()"
   ]
  },
  {
   "cell_type": "markdown",
   "metadata": {},
   "source": [
    "Como podemos observar, la recta dibujada por los pesos del modelo divide perfectamente ambos conjuntos de muestras."
   ]
  },
  {
   "cell_type": "code",
   "execution_count": 26,
   "metadata": {
    "pycharm": {
     "name": "#%%\n"
    }
   },
   "outputs": [
    {
     "data": {
      "text/plain": "1.0"
     },
     "execution_count": 26,
     "metadata": {},
     "output_type": "execute_result"
    }
   ],
   "source": [
    "sum(np.equal(np.greater(SGDClassifier.decision_function(p, testx), np.zeros(shape=testx.shape[0])), testy )) / testx.shape[0]"
   ]
  },
  {
   "cell_type": "markdown",
   "metadata": {
    "pycharm": {
     "name": "#%% md\n"
    }
   },
   "source": [
    "Clasifica correctamente un 100% de las muestras. Por lo tanto, es un buen ajuste."
   ]
  },
  {
   "cell_type": "markdown",
   "metadata": {
    "pycharm": {
     "name": "#%% md\n"
    }
   },
   "source": [
    "Notas de la implementación del método fit y predict:\n",
    "\n",
    "predict: Iteramos todas las muestras que han llegado. A cada muestra se le aplica la función del Perceptrón y si el resultado es positivo, esa muestra pertenece a la clase 1, y si es negativo, pertenece a la clase 0.\n",
    "\n",
    "fit: Por otro lado, la función fit itera cada muestra llegada con su etiqueta. Primero calcula el error de los pesos actuales enviando una muestra a predict y comparandolo con la etiqueta, el error lo multiplico por eta0 y con ese valor ajusto los pesos. Luego mezclo las muestras si se decidió de esta forma, además repito el proceso tantas veces como épocas."
   ]
  }
 ],
 "metadata": {
  "kernelspec": {
   "display_name": "Python 3 (ipykernel)",
   "language": "python",
   "name": "python3"
  },
  "language_info": {
   "codemirror_mode": {
    "name": "ipython",
    "version": 3
   },
   "file_extension": ".py",
   "mimetype": "text/x-python",
   "name": "python",
   "nbconvert_exporter": "python",
   "pygments_lexer": "ipython3",
   "version": "3.9.5"
  }
 },
 "nbformat": 4,
 "nbformat_minor": 1
}