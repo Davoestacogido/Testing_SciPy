{
 "cells": [
  {
   "cell_type": "markdown",
   "source": [
    "# Práctica 8\n",
    "\n",
    "David Cruz Sánchez"
   ],
   "metadata": {
    "collapsed": false
   }
  },
  {
   "cell_type": "markdown",
   "source": [
    "<p align=\"justify\">\n",
    "En un problema de aprendizaje automático supervisado, se dispone de un conjunto de muestras y normalmente las distribuciones de probabilidad a posteriori no son conocidas y por tanto deben ser estimadas a partir del conjunto de entrenamiento. Hay que tener en cuenta que X se considera como una variable aleatoria multidimensional cuya dimensión se corresponde con el número de características del problema. En este caso para mantener el mismo error en la estimación, el número de muestras debe crecer exponencialmente con la dimensionalidad del problema. Para simplificar la estimación de las probabilidades a posteriori de la regla 8.1.1 se ha propuesto el clasificador Naive Bayes que es una simplificación del anterior basándose en la suposición de que las características son condicionalmente independientes conocida la clase.\n",
    "</p>"
   ],
   "metadata": {
    "collapsed": false,
    "pycharm": {
     "name": "#%% md\n"
    }
   }
  },
  {
   "cell_type": "markdown",
   "source": [
    "Comenzamos importando las librerías necesarias."
   ],
   "metadata": {
    "collapsed": false
   }
  },
  {
   "cell_type": "code",
   "execution_count": 1,
   "outputs": [],
   "source": [
    "import pandas as pd\n",
    "from sklearn.model_selection import train_test_split\n",
    "from sklearn.naive_bayes import GaussianNB, MultinomialNB, BernoulliNB,ComplementNB\n",
    "from sklearn.metrics import recall_score, precision_score, accuracy_score\n",
    "import numpy as np\n",
    "import seaborn as sns\n",
    "from matplotlib import pyplot as plt\n",
    "from sklearn.metrics import confusion_matrix\n",
    "from sklearn.linear_model import Perceptron,LogisticRegression\n",
    "from sklearn.svm import SVC\n",
    "from sklearn.neighbors import KNeighborsClassifier\n",
    "from validacion_modelo import validacion_cv"
   ],
   "metadata": {
    "collapsed": false,
    "pycharm": {
     "name": "#%%\n"
    }
   }
  },
  {
   "cell_type": "markdown",
   "source": [
    "# Tarea 1: Clasificación de mensajes como spam con Naive Bayes\n",
    "<p align=\"justify\">\n",
    "Haciendo uso de los dos conjuntos de datos se van a clasificar los mensajes como legítimos (ham) o spam. Para ello se hará uso de las implementaciones que hace la librería sklearn del clasificador <b>Naive Bayes</b>.\n",
    "</p>\n",
    "\n",
    "Comenzamos importando y dividiendo el conjunto de datos como es común:"
   ],
   "metadata": {
    "collapsed": false,
    "pycharm": {
     "name": "#%% md\n"
    }
   }
  },
  {
   "cell_type": "code",
   "execution_count": 2,
   "metadata": {
    "collapsed": true
   },
   "outputs": [
    {
     "data": {
      "text/plain": "     v1  150p  150ppm   16   18  1st  2nd  500  a100  a1000  ...  yes  \\\n0   ham   0.0     0.0  0.0  0.0  0.0  0.0  0.0   0.0    0.0  ...  0.0   \n1   ham   0.0     0.0  0.0  0.0  0.0  0.0  0.0   0.0    0.0  ...  0.0   \n2  spam   0.0     0.0  0.0  0.0  0.0  0.0  0.0   0.0    0.0  ...  0.0   \n3   ham   0.0     0.0  0.0  0.0  0.0  0.0  0.0   0.0    0.0  ...  0.0   \n4   ham   0.0     0.0  0.0  0.0  0.0  0.0  0.0   0.0    0.0  ...  0.0   \n\n   yesterday  yet   yo  you  your  youre  yours  yourself  yup  \n0        0.0  0.0  0.0  0.0   0.0    0.0    0.0       0.0  0.0  \n1        0.0  0.0  0.0  0.0   0.0    0.0    0.0       0.0  0.0  \n2        0.0  0.0  0.0  0.0   0.0    0.0    0.0       0.0  0.0  \n3        0.0  0.0  0.0  0.0   0.0    0.0    0.0       0.0  0.0  \n4        0.0  0.0  0.0  0.0   0.0    0.0    0.0       0.0  0.0  \n\n[5 rows x 501 columns]",
      "text/html": "<div>\n<style scoped>\n    .dataframe tbody tr th:only-of-type {\n        vertical-align: middle;\n    }\n\n    .dataframe tbody tr th {\n        vertical-align: top;\n    }\n\n    .dataframe thead th {\n        text-align: right;\n    }\n</style>\n<table border=\"1\" class=\"dataframe\">\n  <thead>\n    <tr style=\"text-align: right;\">\n      <th></th>\n      <th>v1</th>\n      <th>150p</th>\n      <th>150ppm</th>\n      <th>16</th>\n      <th>18</th>\n      <th>1st</th>\n      <th>2nd</th>\n      <th>500</th>\n      <th>a100</th>\n      <th>a1000</th>\n      <th>...</th>\n      <th>yes</th>\n      <th>yesterday</th>\n      <th>yet</th>\n      <th>yo</th>\n      <th>you</th>\n      <th>your</th>\n      <th>youre</th>\n      <th>yours</th>\n      <th>yourself</th>\n      <th>yup</th>\n    </tr>\n  </thead>\n  <tbody>\n    <tr>\n      <th>0</th>\n      <td>ham</td>\n      <td>0.0</td>\n      <td>0.0</td>\n      <td>0.0</td>\n      <td>0.0</td>\n      <td>0.0</td>\n      <td>0.0</td>\n      <td>0.0</td>\n      <td>0.0</td>\n      <td>0.0</td>\n      <td>...</td>\n      <td>0.0</td>\n      <td>0.0</td>\n      <td>0.0</td>\n      <td>0.0</td>\n      <td>0.0</td>\n      <td>0.0</td>\n      <td>0.0</td>\n      <td>0.0</td>\n      <td>0.0</td>\n      <td>0.0</td>\n    </tr>\n    <tr>\n      <th>1</th>\n      <td>ham</td>\n      <td>0.0</td>\n      <td>0.0</td>\n      <td>0.0</td>\n      <td>0.0</td>\n      <td>0.0</td>\n      <td>0.0</td>\n      <td>0.0</td>\n      <td>0.0</td>\n      <td>0.0</td>\n      <td>...</td>\n      <td>0.0</td>\n      <td>0.0</td>\n      <td>0.0</td>\n      <td>0.0</td>\n      <td>0.0</td>\n      <td>0.0</td>\n      <td>0.0</td>\n      <td>0.0</td>\n      <td>0.0</td>\n      <td>0.0</td>\n    </tr>\n    <tr>\n      <th>2</th>\n      <td>spam</td>\n      <td>0.0</td>\n      <td>0.0</td>\n      <td>0.0</td>\n      <td>0.0</td>\n      <td>0.0</td>\n      <td>0.0</td>\n      <td>0.0</td>\n      <td>0.0</td>\n      <td>0.0</td>\n      <td>...</td>\n      <td>0.0</td>\n      <td>0.0</td>\n      <td>0.0</td>\n      <td>0.0</td>\n      <td>0.0</td>\n      <td>0.0</td>\n      <td>0.0</td>\n      <td>0.0</td>\n      <td>0.0</td>\n      <td>0.0</td>\n    </tr>\n    <tr>\n      <th>3</th>\n      <td>ham</td>\n      <td>0.0</td>\n      <td>0.0</td>\n      <td>0.0</td>\n      <td>0.0</td>\n      <td>0.0</td>\n      <td>0.0</td>\n      <td>0.0</td>\n      <td>0.0</td>\n      <td>0.0</td>\n      <td>...</td>\n      <td>0.0</td>\n      <td>0.0</td>\n      <td>0.0</td>\n      <td>0.0</td>\n      <td>0.0</td>\n      <td>0.0</td>\n      <td>0.0</td>\n      <td>0.0</td>\n      <td>0.0</td>\n      <td>0.0</td>\n    </tr>\n    <tr>\n      <th>4</th>\n      <td>ham</td>\n      <td>0.0</td>\n      <td>0.0</td>\n      <td>0.0</td>\n      <td>0.0</td>\n      <td>0.0</td>\n      <td>0.0</td>\n      <td>0.0</td>\n      <td>0.0</td>\n      <td>0.0</td>\n      <td>...</td>\n      <td>0.0</td>\n      <td>0.0</td>\n      <td>0.0</td>\n      <td>0.0</td>\n      <td>0.0</td>\n      <td>0.0</td>\n      <td>0.0</td>\n      <td>0.0</td>\n      <td>0.0</td>\n      <td>0.0</td>\n    </tr>\n  </tbody>\n</table>\n<p>5 rows × 501 columns</p>\n</div>"
     },
     "execution_count": 2,
     "metadata": {},
     "output_type": "execute_result"
    }
   ],
   "source": [
    "real_df = pd.read_csv(\"spam_preprocesado_reales.csv\", sep=\",\")\n",
    "\n",
    "y_real = real_df.iloc[: , 0]\n",
    "X_real = real_df.iloc[: , 1:]\n",
    "trainx_real,testx_real, trainy_real, testy_real = train_test_split(X_real,y_real, train_size=0.7,random_state=0)\n",
    "real_df.head()"
   ]
  },
  {
   "cell_type": "markdown",
   "source": [
    "<p align=\"justify\">Para calcular los medidores que voy a utilizar y evitar repetir código, he creado una función \"accuracy_calculator\" que a partir de un modelo y unos datos, lo entrena, y devuelve su accuracy_score, precision score, y recall_score en una tupla.</p>"
   ],
   "metadata": {
    "collapsed": false
   }
  },
  {
   "cell_type": "code",
   "execution_count": 3,
   "outputs": [],
   "source": [
    "def accuracy_calculator(model,trainx,trainy,testx,testy):\n",
    "    model.fit(trainx,trainy)\n",
    "    return accuracy_score(np.array(testy), model.predict(testx)), precision_score(np.array(testy), model.predict(testx),average=\"weighted\"), recall_score(np.array(testy), model.predict(testx), average=\"weighted\")"
   ],
   "metadata": {
    "collapsed": false,
    "pycharm": {
     "name": "#%%\n"
    }
   }
  },
  {
   "cell_type": "markdown",
   "source": [
    "A continuación creo cada uno de los modelos bayesianos y obtengo sus medidas con la función.\n",
    "\n",
    " * ### Usaremos los siguientes modelos de <b>Naive Bayes</b>:\n",
    "\n",
    "<b>GaussianNB</b>: Este modelo espera que las verosimilitudes cumplan con una campana de gauss, por lo que su fórmula es la misma que la de la normal.\n",
    "\n",
    "<b>BernoulliNB</b>: Espera que las verosimilitudes sigan una distribución de bernoulli. Esta clase requiere que los datos sean binarios, puesto que la clase asume que los datos son valores booleanos.\n",
    "\n",
    "<b>MultibinomialNB</b>: Este modelo espera que las probabilidades de verosimilitud sigan una distribución multinomial, que es una generalización de la distribución binomial.\n",
    "\n",
    "<b>ComplementNB</b>: Es una adaptación del anterior modelo para datasets especialmente imbalanceados, suele dar mejores resultados que multibinomialNB.\n",
    "\n",
    "* ### Las medidas son las siguientes:\n",
    "\n",
    "<b>accuracy_score</b>: Comprueba si las clases predichas son las mismas que las reales y lo devuelve en un % de acierto.\n",
    "\n",
    "<b>precision_score</b>: Muestra en un %, la capacidad del modelo de no etiquetar como + una muestra -. Su fórmula es: tp / (tp + fp) donde tp  es el número de verdaderos positivos, y fp el número de falsos positivos.\n",
    "\n",
    "<b>recall_score</b>: Representa la abilidad del clasficador para clasificar todas las muestras positivas. Su fórmula es tp / (tp + fn) donde tp es el número de verdaderos positivos y fn el de falsos negativos."
   ],
   "metadata": {
    "collapsed": false
   }
  },
  {
   "cell_type": "markdown",
   "source": [
    "### Comenzamos calculando los restulados con datos reales:"
   ],
   "metadata": {
    "collapsed": false,
    "pycharm": {
     "name": "#%% md\n"
    }
   }
  },
  {
   "cell_type": "code",
   "execution_count": 4,
   "outputs": [
    {
     "data": {
      "text/plain": "             Accuracy  Precision    Recall\nGauss        0.741029   0.892953  0.741029\nMultinomial  0.957536   0.958116  0.957536\nBernoulli    0.974880   0.974560  0.974880\nComplement   0.938995   0.951444  0.938995",
      "text/html": "<div>\n<style scoped>\n    .dataframe tbody tr th:only-of-type {\n        vertical-align: middle;\n    }\n\n    .dataframe tbody tr th {\n        vertical-align: top;\n    }\n\n    .dataframe thead th {\n        text-align: right;\n    }\n</style>\n<table border=\"1\" class=\"dataframe\">\n  <thead>\n    <tr style=\"text-align: right;\">\n      <th></th>\n      <th>Accuracy</th>\n      <th>Precision</th>\n      <th>Recall</th>\n    </tr>\n  </thead>\n  <tbody>\n    <tr>\n      <th>Gauss</th>\n      <td>0.741029</td>\n      <td>0.892953</td>\n      <td>0.741029</td>\n    </tr>\n    <tr>\n      <th>Multinomial</th>\n      <td>0.957536</td>\n      <td>0.958116</td>\n      <td>0.957536</td>\n    </tr>\n    <tr>\n      <th>Bernoulli</th>\n      <td>0.974880</td>\n      <td>0.974560</td>\n      <td>0.974880</td>\n    </tr>\n    <tr>\n      <th>Complement</th>\n      <td>0.938995</td>\n      <td>0.951444</td>\n      <td>0.938995</td>\n    </tr>\n  </tbody>\n</table>\n</div>"
     },
     "execution_count": 4,
     "metadata": {},
     "output_type": "execute_result"
    }
   ],
   "source": [
    "acc_prec_recall_real = {}\n",
    "\n",
    "gauss = GaussianNB()\n",
    "acc_prec_recall_real[\"Gauss\"] = accuracy_calculator(gauss,trainx_real,trainy_real,testx_real,testy_real)\n",
    "\n",
    "multi = MultinomialNB()\n",
    "acc_prec_recall_real[\"Multinomial\"] = accuracy_calculator(multi,trainx_real,trainy_real,testx_real,testy_real)\n",
    "\n",
    "bern = BernoulliNB()\n",
    "acc_prec_recall_real[\"Bernoulli\"] = accuracy_calculator(bern,trainx_real,trainy_real,testx_real,testy_real)\n",
    "\n",
    "compl = ComplementNB()\n",
    "acc_prec_recall_real[\"Complement\"] = accuracy_calculator(compl,trainx_real,trainy_real,testx_real,testy_real)\n",
    "\n",
    "df_real = pd.DataFrame.from_dict(acc_prec_recall_real, orient='index',\n",
    "                columns=['Accuracy', 'Precision', 'Recall'])\n",
    "df_real"
   ],
   "metadata": {
    "collapsed": false,
    "pycharm": {
     "name": "#%%\n"
    }
   }
  },
  {
   "cell_type": "markdown",
   "source": [
    "En una primera impresión de los resultados, Bernoulli parece ser el que mejor funciona con datos reales, y la medida de precision_score es la más alta, los analizaremos de forma más profunda con una gráfica una vez tengamos los resultados con los datos binarios."
   ],
   "metadata": {
    "collapsed": false
   }
  },
  {
   "cell_type": "markdown",
   "source": [
    "### Matrices de confusión de datos reales.\n",
    "A continuación creo una función para dejar el código más limpio creando todas las matrices en ella, aunque no disminuya las líneas de código. También creo una para no repetir el código de colocar los mismos nombres a los ejes en las matrices."
   ],
   "metadata": {
    "collapsed": false
   }
  },
  {
   "cell_type": "code",
   "execution_count": 5,
   "outputs": [],
   "source": [
    "def matrix_creator(model,testx , testy):\n",
    "    return confusion_matrix(testy, model.predict(testx),labels=[\"ham\",\"spam\"])\n",
    "\n",
    "def set_labels(ax,name):\n",
    "    ax.set_xlabel('\\nValores predichos')\n",
    "    ax.set_ylabel('Valores reales');\n",
    "    ax.xaxis.set_ticklabels([\"ham\",\"spam\"])\n",
    "    ax.yaxis.set_ticklabels([\"ham\",\"spam\"])\n",
    "    ax.set_title(name + '\\n\\n');"
   ],
   "metadata": {
    "collapsed": false,
    "pycharm": {
     "name": "#%%\n"
    }
   }
  },
  {
   "cell_type": "markdown",
   "source": [
    "A partir de las funcion anterior, creo una matriz de confusión para cada modelo con datos reales."
   ],
   "metadata": {
    "collapsed": false
   }
  },
  {
   "cell_type": "code",
   "execution_count": 6,
   "outputs": [
    {
     "data": {
      "text/plain": "<Figure size 576x576 with 8 Axes>",
      "image/png": "[encoded data removed]"
     },
     "metadata": {
      "needs_background": "light"
     },
     "output_type": "display_data"
    }
   ],
   "source": [
    "fig, ax = plt.subplots(nrows=2,ncols=2)\n",
    "fig.set_figheight(8)\n",
    "fig.set_figwidth(8)\n",
    "\n",
    "gauss = GaussianNB()\n",
    "gauss.fit(trainx_real,trainy_real)\n",
    "cf_matrix = matrix_creator(gauss,testx_real,testy_real)\n",
    "ax = plt.subplot(2, 2, 0+1)\n",
    "ax = sns.heatmap(cf_matrix/np.sum(cf_matrix), annot=True, cmap='Reds_r')\n",
    "set_labels(ax,\"Gauss\")\n",
    "\n",
    "compl = ComplementNB()\n",
    "compl.fit(trainx_real,trainy_real)\n",
    "cf_matrix = matrix_creator(compl,testx_real,testy_real)\n",
    "ax = plt.subplot(2, 2, 1+1)\n",
    "ax = sns.heatmap(cf_matrix/np.sum(cf_matrix), annot=True, cmap='Reds_r')\n",
    "set_labels(ax,\"Complement\")\n",
    "\n",
    "multi = MultinomialNB()\n",
    "multi.fit(trainx_real,trainy_real)\n",
    "\n",
    "cf_matrix = matrix_creator(multi,testx_real,testy_real)\n",
    "ax = plt.subplot(2, 2, 1+2)\n",
    "ax = sns.heatmap(cf_matrix/np.sum(cf_matrix), annot=True, cmap='Reds_r')\n",
    "set_labels(ax,\"Multinomial\")\n",
    "\n",
    "\n",
    "bern = BernoulliNB()\n",
    "bern.fit(trainx_real,trainy_real)\n",
    "\n",
    "cf_matrix = matrix_creator(bern,testx_real,testy_real)\n",
    "ax = plt.subplot(2, 2, 1+3)\n",
    "ax = sns.heatmap(cf_matrix/np.sum(cf_matrix), annot=True, cmap='Reds_r')\n",
    "set_labels(ax,\"Bernoulli\")\n",
    "\n",
    "\n",
    "plt.tight_layout()\n",
    "plt.show()\n",
    "\n"
   ],
   "metadata": {
    "collapsed": false,
    "pycharm": {
     "name": "#%%\n"
    }
   }
  },
  {
   "cell_type": "markdown",
   "source": [
    "<p align=\"justify\">\n",
    "Como podemos observar, en términos generales dan resultados muy parecidos y eficientes. Sin embargo, el Gauss no clasifica correctamente los casos que no son spam, probablemente porque las verosimilitudes no se ajusten a una distribución normal. Por otro lado, multibinomial es menos eficiente al clasificar los casos de spam. Esto último se puede deber a que el modelo multibinomial no tiene en cuenta lo desbalanceado que es nuestro dataset, pero los otros modelos sí y por ello son casi idénticos.\n",
    "</p>"
   ],
   "metadata": {
    "collapsed": false
   }
  },
  {
   "cell_type": "markdown",
   "source": [
    "### Tarea 1 con datos binarios\n",
    "\n",
    "Repetimos la primera tarea con datos binarios."
   ],
   "metadata": {
    "collapsed": false
   }
  },
  {
   "cell_type": "code",
   "execution_count": 7,
   "outputs": [
    {
     "data": {
      "text/plain": "     v1  150p  150ppm  16  18  1st  2nd  500  a100  a1000  ...  yes  \\\n0   ham     0       0   0   0    0    0    0     0      0  ...    0   \n1   ham     0       0   0   0    0    0    0     0      0  ...    0   \n2  spam     0       0   0   0    0    0    0     0      0  ...    0   \n3   ham     0       0   0   0    0    0    0     0      0  ...    0   \n4   ham     0       0   0   0    0    0    0     0      0  ...    0   \n\n   yesterday  yet  yo  you  your  youre  yours  yourself  yup  \n0          0    0   0    0     0      0      0         0    0  \n1          0    0   0    0     0      0      0         0    0  \n2          0    0   0    0     0      0      0         0    0  \n3          0    0   0    0     0      0      0         0    0  \n4          0    0   0    0     0      0      0         0    0  \n\n[5 rows x 501 columns]",
      "text/html": "<div>\n<style scoped>\n    .dataframe tbody tr th:only-of-type {\n        vertical-align: middle;\n    }\n\n    .dataframe tbody tr th {\n        vertical-align: top;\n    }\n\n    .dataframe thead th {\n        text-align: right;\n    }\n</style>\n<table border=\"1\" class=\"dataframe\">\n  <thead>\n    <tr style=\"text-align: right;\">\n      <th></th>\n      <th>v1</th>\n      <th>150p</th>\n      <th>150ppm</th>\n      <th>16</th>\n      <th>18</th>\n      <th>1st</th>\n      <th>2nd</th>\n      <th>500</th>\n      <th>a100</th>\n      <th>a1000</th>\n      <th>...</th>\n      <th>yes</th>\n      <th>yesterday</th>\n      <th>yet</th>\n      <th>yo</th>\n      <th>you</th>\n      <th>your</th>\n      <th>youre</th>\n      <th>yours</th>\n      <th>yourself</th>\n      <th>yup</th>\n    </tr>\n  </thead>\n  <tbody>\n    <tr>\n      <th>0</th>\n      <td>ham</td>\n      <td>0</td>\n      <td>0</td>\n      <td>0</td>\n      <td>0</td>\n      <td>0</td>\n      <td>0</td>\n      <td>0</td>\n      <td>0</td>\n      <td>0</td>\n      <td>...</td>\n      <td>0</td>\n      <td>0</td>\n      <td>0</td>\n      <td>0</td>\n      <td>0</td>\n      <td>0</td>\n      <td>0</td>\n      <td>0</td>\n      <td>0</td>\n      <td>0</td>\n    </tr>\n    <tr>\n      <th>1</th>\n      <td>ham</td>\n      <td>0</td>\n      <td>0</td>\n      <td>0</td>\n      <td>0</td>\n      <td>0</td>\n      <td>0</td>\n      <td>0</td>\n      <td>0</td>\n      <td>0</td>\n      <td>...</td>\n      <td>0</td>\n      <td>0</td>\n      <td>0</td>\n      <td>0</td>\n      <td>0</td>\n      <td>0</td>\n      <td>0</td>\n      <td>0</td>\n      <td>0</td>\n      <td>0</td>\n    </tr>\n    <tr>\n      <th>2</th>\n      <td>spam</td>\n      <td>0</td>\n      <td>0</td>\n      <td>0</td>\n      <td>0</td>\n      <td>0</td>\n      <td>0</td>\n      <td>0</td>\n      <td>0</td>\n      <td>0</td>\n      <td>...</td>\n      <td>0</td>\n      <td>0</td>\n      <td>0</td>\n      <td>0</td>\n      <td>0</td>\n      <td>0</td>\n      <td>0</td>\n      <td>0</td>\n      <td>0</td>\n      <td>0</td>\n    </tr>\n    <tr>\n      <th>3</th>\n      <td>ham</td>\n      <td>0</td>\n      <td>0</td>\n      <td>0</td>\n      <td>0</td>\n      <td>0</td>\n      <td>0</td>\n      <td>0</td>\n      <td>0</td>\n      <td>0</td>\n      <td>...</td>\n      <td>0</td>\n      <td>0</td>\n      <td>0</td>\n      <td>0</td>\n      <td>0</td>\n      <td>0</td>\n      <td>0</td>\n      <td>0</td>\n      <td>0</td>\n      <td>0</td>\n    </tr>\n    <tr>\n      <th>4</th>\n      <td>ham</td>\n      <td>0</td>\n      <td>0</td>\n      <td>0</td>\n      <td>0</td>\n      <td>0</td>\n      <td>0</td>\n      <td>0</td>\n      <td>0</td>\n      <td>0</td>\n      <td>...</td>\n      <td>0</td>\n      <td>0</td>\n      <td>0</td>\n      <td>0</td>\n      <td>0</td>\n      <td>0</td>\n      <td>0</td>\n      <td>0</td>\n      <td>0</td>\n      <td>0</td>\n    </tr>\n  </tbody>\n</table>\n<p>5 rows × 501 columns</p>\n</div>"
     },
     "execution_count": 7,
     "metadata": {},
     "output_type": "execute_result"
    }
   ],
   "source": [
    "binario_df = pd.read_csv(\"spam_preprocesado_binario.csv\", sep=\",\")\n",
    "\n",
    "y_bin = binario_df.iloc[: , 0]\n",
    "X_bin = binario_df.iloc[: , 1:]\n",
    "trainx_binario,testx_binario, trainy_binario, testy_binario = train_test_split(X_bin,y_bin, train_size=0.7,random_state=0)\n",
    "binario_df.head()"
   ],
   "metadata": {
    "collapsed": false,
    "pycharm": {
     "name": "#%%\n"
    }
   }
  },
  {
   "cell_type": "code",
   "execution_count": 8,
   "outputs": [
    {
     "data": {
      "text/plain": "             Accuracy  Precision    Recall\nGauss        0.691388   0.889838  0.691388\nMultinomial  0.969498   0.969348  0.969498\nBernoulli    0.974880   0.974560  0.974880\nComplement   0.944976   0.953710  0.944976",
      "text/html": "<div>\n<style scoped>\n    .dataframe tbody tr th:only-of-type {\n        vertical-align: middle;\n    }\n\n    .dataframe tbody tr th {\n        vertical-align: top;\n    }\n\n    .dataframe thead th {\n        text-align: right;\n    }\n</style>\n<table border=\"1\" class=\"dataframe\">\n  <thead>\n    <tr style=\"text-align: right;\">\n      <th></th>\n      <th>Accuracy</th>\n      <th>Precision</th>\n      <th>Recall</th>\n    </tr>\n  </thead>\n  <tbody>\n    <tr>\n      <th>Gauss</th>\n      <td>0.691388</td>\n      <td>0.889838</td>\n      <td>0.691388</td>\n    </tr>\n    <tr>\n      <th>Multinomial</th>\n      <td>0.969498</td>\n      <td>0.969348</td>\n      <td>0.969498</td>\n    </tr>\n    <tr>\n      <th>Bernoulli</th>\n      <td>0.974880</td>\n      <td>0.974560</td>\n      <td>0.974880</td>\n    </tr>\n    <tr>\n      <th>Complement</th>\n      <td>0.944976</td>\n      <td>0.953710</td>\n      <td>0.944976</td>\n    </tr>\n  </tbody>\n</table>\n</div>"
     },
     "execution_count": 8,
     "metadata": {},
     "output_type": "execute_result"
    }
   ],
   "source": [
    "acc_prec_recall_binary = {}\n",
    "\n",
    "gauss = GaussianNB()\n",
    "acc_prec_recall_binary[\"Gauss\"] = accuracy_calculator(gauss,trainx_binario,trainy_binario,testx_binario,testy_binario)\n",
    "\n",
    "multi = MultinomialNB()\n",
    "acc_prec_recall_binary[\"Multinomial\"] = accuracy_calculator(multi,trainx_binario,trainy_binario,testx_binario,testy_binario)\n",
    "\n",
    "bern = BernoulliNB()\n",
    "acc_prec_recall_binary[\"Bernoulli\"] = accuracy_calculator(bern,trainx_binario,trainy_binario,testx_binario,testy_binario)\n",
    "\n",
    "compl = ComplementNB()\n",
    "acc_prec_recall_binary[\"Complement\"] = accuracy_calculator(compl,trainx_binario,trainy_binario,testx_binario,testy_binario)\n",
    "\n",
    "df_binario = pd.DataFrame.from_dict(acc_prec_recall_binary, orient='index',\n",
    "                       columns=['Accuracy', 'Precision', 'Recall'])\n",
    "df_binario"
   ],
   "metadata": {
    "collapsed": false,
    "pycharm": {
     "name": "#%%\n"
    }
   }
  },
  {
   "cell_type": "markdown",
   "source": [
    "Resultados casi idénticos al anterior caso, para analizarlos mejor, graficamos ambos casos:"
   ],
   "metadata": {
    "collapsed": false
   }
  },
  {
   "cell_type": "markdown",
   "source": [
    "### Comparación de modelos bayesianos con las diferentes medidas."
   ],
   "metadata": {
    "collapsed": false
   }
  },
  {
   "cell_type": "code",
   "execution_count": 9,
   "outputs": [
    {
     "data": {
      "text/plain": "<Figure size 720x288 with 2 Axes>",
      "image/png": "[encoded data removed]"
     },
     "metadata": {
      "needs_background": "light"
     },
     "output_type": "display_data"
    }
   ],
   "source": [
    "fig, ax = plt.subplots(nrows=1, ncols=2)\n",
    "fig.set_figheight(4)\n",
    "fig.set_figwidth(10)\n",
    "\n",
    "etiquetas=[\"Gauss\",\"Multinomial\",\"Bernoulli\",\"Complement\"]\n",
    "ax = plt.subplot(1, 2, 1)\n",
    "x = np.array(range(4))\n",
    "ax.bar(x, df_binario.loc[:,['Accuracy']].squeeze(), width=0.3, color='blue')\n",
    "ax.bar(x-0.3, df_binario.loc[:,['Precision']].squeeze(), width=0.3, color='red')\n",
    "ax.bar(x-0.6, df_binario.loc[:,['Recall']].squeeze(), width=0.3, color='yellow')\n",
    "ax.set_xlabel('Modelos')\n",
    "ax.set_ylabel('Porcentajes')\n",
    "ax.set_xticks(x-0.3)# values\n",
    "ax.set_xticklabels(etiquetas) # labels\n",
    "ax.set_title('Con los datos binarios')\n",
    "ax.set_ylim(0.6,1)\n",
    "ax.grid()\n",
    "\n",
    "\n",
    "ax = plt.subplot(1, 2, 2)\n",
    "ax.bar(x, df_real.loc[:,['Accuracy']].squeeze(), width=0.3, color='blue')\n",
    "ax.bar(x-0.3, df_real.loc[:,['Precision']].squeeze(), width=0.3, color='red')\n",
    "ax.bar(x-0.6, df_real.loc[:,['Recall']].squeeze(), width=0.3, color='yellow')\n",
    "ax.set_xlabel('Modelos')\n",
    "ax.set_ylabel('Porcentajes')\n",
    "ax.set_xticks(x-0.3)# values\n",
    "ax.set_xticklabels(etiquetas) # labels\n",
    "ax.legend(['Accuracy', 'Precision','Recall'],bbox_to_anchor = (1.05, 0.6))\n",
    "ax.set_title('Con los datos reales')\n",
    "ax.set_ylim(0.6,1)\n",
    "ax.grid()"
   ],
   "metadata": {
    "collapsed": false,
    "pycharm": {
     "name": "#%%\n"
    }
   }
  },
  {
   "cell_type": "markdown",
   "source": [
    "<p align=\"justify\">\n",
    "Como podemos observar, independientemente de si son datos reales o binarios, los modelos parecen reconocerlos de forma casi idéntica. En todo caso el complement y multinomial mejoran un poco con datos binarios, esto se puede deber a la distribución con la que trabajan, pues la binomial se adapta mejor a datos binarios.\n",
    "</p>\n",
    "<p align=\"justify\">\n",
    "Por otro lado el modelo gauss empeora con datos reales, pues probablemente se adapten de peor forma a la distribución normal. Ya por último Bernouilli permanece idéntica, esto se puede deber a que la misma función ya entiende los datos de llegada como binarios, sean cuales sean.\n",
    "</p>\n",
    "<p align=\"justify\">\n",
    "En cuanto a las precisiones son muy parecidas pero parece que preccision_accuracy es la más alta en general, esto se debe a que los modelos tienen un alto porcentaje de acierto, en clasificar correos de no spam como correos de no spam. Esto tiene sentido pues la mayoría de correos son de no spam.\n",
    "</p>\n",
    "<p align=\"justify\">\n",
    "La razón de porque el modelo gauss es claramente inferior se puede deber a que las verosimilitudes de los datos están muy alejadas pertenecer a una distribución normal.\n",
    "</p>\n",
    "<p align=\"justify\">\n",
    "De estas gráficas, obtengo que el mejor modelo que se adapta mejor a los datos es el BernouilliNB, y que la medidas interesantes son el accuracy_score y el recall_score, pues tienen en cuenta si los spam se clasifican correctamente que es el propósito de entrenar modelos con estos datos.\n",
    "</p>"
   ],
   "metadata": {
    "collapsed": false
   }
  },
  {
   "cell_type": "markdown",
   "source": [
    "### Matrices de confusion con datos binarios"
   ],
   "metadata": {
    "collapsed": false
   }
  },
  {
   "cell_type": "code",
   "execution_count": 10,
   "outputs": [
    {
     "data": {
      "text/plain": "<Figure size 576x576 with 8 Axes>",
      "image/png": "[encoded data removed]"
     },
     "metadata": {
      "needs_background": "light"
     },
     "output_type": "display_data"
    }
   ],
   "source": [
    "fig, ax = plt.subplots(nrows=2, ncols=2)\n",
    "fig.set_figheight(8)\n",
    "fig.set_figwidth(8)\n",
    "\n",
    "gauss = GaussianNB()\n",
    "gauss.fit(trainx_binario, trainy_binario)\n",
    "cf_matrix = matrix_creator(gauss, testx_binario, testy_binario)\n",
    "ax = plt.subplot(2, 2, 0 + 1)\n",
    "ax = sns.heatmap(cf_matrix / np.sum(cf_matrix), annot=True, cmap='Reds_r')\n",
    "set_labels(ax,\"Gauss\")\n",
    "\n",
    "compl = ComplementNB()\n",
    "compl.fit(trainx_binario, trainy_binario)\n",
    "cf_matrix = matrix_creator(compl, testx_binario, testy_binario)\n",
    "ax = plt.subplot(2, 2, 1 + 1)\n",
    "ax = sns.heatmap(cf_matrix / np.sum(cf_matrix), annot=True, cmap='Reds_r')\n",
    "set_labels(ax,\"Complement\" )\n",
    "\n",
    "multi = MultinomialNB()\n",
    "multi.fit(trainx_binario, trainy_binario)\n",
    "cf_matrix = matrix_creator(multi, testx_binario, testy_binario)\n",
    "ax = plt.subplot(2, 2, 1 + 2)\n",
    "ax = sns.heatmap(cf_matrix / np.sum(cf_matrix), annot=True, cmap='Reds_r')\n",
    "set_labels(ax,\"Multinomial\" )\n",
    "\n",
    "bern = BernoulliNB()\n",
    "bern.fit(trainx_binario, trainy_binario)\n",
    "cf_matrix = matrix_creator(bern, testx_binario, testy_binario)\n",
    "ax = plt.subplot(2, 2, 1 + 3)\n",
    "ax = sns.heatmap(cf_matrix / np.sum(cf_matrix), annot=True, cmap='Reds_r')\n",
    "set_labels(ax,\"Bernoulli\")\n",
    "\n",
    "plt.tight_layout()\n",
    "plt.show()\n"
   ],
   "metadata": {
    "collapsed": false,
    "pycharm": {
     "name": "#%%\n"
    }
   }
  },
  {
   "cell_type": "markdown",
   "source": [
    "<p align=\"justify\">Con los datos binarios, lo más destacable es que Gauss ha disminuido su precisión aún más, probablemente porque, al tratarse de datos binarios, sus verosimilitudes se alejan aún más de pertenecer a una distribución normal. Esta vez multinomial ya no tiene el fallo anterior, y por lo tanto, ahora las meustras se asemejan más a una distribución binomial. Por otro lado, el resto han permanecido prácticamente igual, sin cambios notables, se puede deber a que el resto de funciones se adaptan bien a los datos independientemente de su formato.</p>"
   ],
   "metadata": {
    "collapsed": false
   }
  },
  {
   "cell_type": "markdown",
   "source": [
    "# Tarea 2\n",
    "<p align=\"justify\">\n",
    "Para poder comprobar el rendimiento del clasificador Naive Bayes en la clasificación de mensajes SMS como legítimos o spam, se debería comparar los resultados con otros clasificadores. Por tanto, en esta tarea se realizará la clasificación de los dos conjuntos anteriores con diferentes clasificadores de los utilizados hasta ahora en las prácticas y de esta manera comprobar la bondad del clasificador Naive Bayes\n",
    "</p>"
   ],
   "metadata": {
    "collapsed": false
   }
  },
  {
   "cell_type": "code",
   "execution_count": 11,
   "outputs": [
    {
     "data": {
      "text/plain": "                      Accuracy  Precision    Recall\nSVC                   0.974880   0.975595  0.974880\nPerceptron            0.972488   0.972063  0.972488\nLogistic              0.979665   0.979691  0.979665\nKNeighborsClassifier  0.925837   0.931740  0.925837",
      "text/html": "<div>\n<style scoped>\n    .dataframe tbody tr th:only-of-type {\n        vertical-align: middle;\n    }\n\n    .dataframe tbody tr th {\n        vertical-align: top;\n    }\n\n    .dataframe thead th {\n        text-align: right;\n    }\n</style>\n<table border=\"1\" class=\"dataframe\">\n  <thead>\n    <tr style=\"text-align: right;\">\n      <th></th>\n      <th>Accuracy</th>\n      <th>Precision</th>\n      <th>Recall</th>\n    </tr>\n  </thead>\n  <tbody>\n    <tr>\n      <th>SVC</th>\n      <td>0.974880</td>\n      <td>0.975595</td>\n      <td>0.974880</td>\n    </tr>\n    <tr>\n      <th>Perceptron</th>\n      <td>0.972488</td>\n      <td>0.972063</td>\n      <td>0.972488</td>\n    </tr>\n    <tr>\n      <th>Logistic</th>\n      <td>0.979665</td>\n      <td>0.979691</td>\n      <td>0.979665</td>\n    </tr>\n    <tr>\n      <th>KNeighborsClassifier</th>\n      <td>0.925837</td>\n      <td>0.931740</td>\n      <td>0.925837</td>\n    </tr>\n  </tbody>\n</table>\n</div>"
     },
     "execution_count": 11,
     "metadata": {},
     "output_type": "execute_result"
    }
   ],
   "source": [
    "acc_prec_recall_binary = {}\n",
    "\n",
    "svc = SVC()\n",
    "acc_prec_recall_binary[\"SVC\"] = accuracy_calculator(svc, trainx_binario, trainy_binario, testx_binario, testy_binario)\n",
    "\n",
    "percep = Perceptron()\n",
    "acc_prec_recall_binary[\"Perceptron\"] = accuracy_calculator(percep, trainx_binario, trainy_binario, testx_binario, testy_binario)\n",
    "\n",
    "log = LogisticRegression()\n",
    "acc_prec_recall_binary[\"Logistic\"] = accuracy_calculator(log, trainx_binario, trainy_binario, testx_binario, testy_binario)\n",
    "\n",
    "KNeighbors = KNeighborsClassifier()\n",
    "acc_prec_recall_binary[\"KNeighborsClassifier\"] = accuracy_calculator(KNeighbors, trainx_binario, trainy_binario, testx_binario, testy_binario)\n",
    "\n",
    "df_binario = pd.DataFrame.from_dict(acc_prec_recall_binary, orient='index',\n",
    "                       columns=['Accuracy', 'Precision', 'Recall'])\n",
    "df_binario"
   ],
   "metadata": {
    "collapsed": false,
    "pycharm": {
     "name": "#%%\n"
    }
   }
  },
  {
   "cell_type": "markdown",
   "source": [
    "Para estos nuevos modelos los resultados son mejores, pero para hallar conclusiones consistentes los visualizaremos mediante dos gráficas."
   ],
   "metadata": {
    "collapsed": false
   }
  },
  {
   "cell_type": "markdown",
   "source": [
    "### Con datos reales tarea 2"
   ],
   "metadata": {
    "collapsed": false
   }
  },
  {
   "cell_type": "code",
   "execution_count": 12,
   "outputs": [
    {
     "data": {
      "text/plain": "                      Accuracy  Precision    Recall\nSVC                   0.975478   0.975711  0.975478\nPerceptron            0.975478   0.975142  0.975478\nLogistic              0.963517   0.963851  0.963517\nKNeighborsClassifier  0.924043   0.929424  0.924043",
      "text/html": "<div>\n<style scoped>\n    .dataframe tbody tr th:only-of-type {\n        vertical-align: middle;\n    }\n\n    .dataframe tbody tr th {\n        vertical-align: top;\n    }\n\n    .dataframe thead th {\n        text-align: right;\n    }\n</style>\n<table border=\"1\" class=\"dataframe\">\n  <thead>\n    <tr style=\"text-align: right;\">\n      <th></th>\n      <th>Accuracy</th>\n      <th>Precision</th>\n      <th>Recall</th>\n    </tr>\n  </thead>\n  <tbody>\n    <tr>\n      <th>SVC</th>\n      <td>0.975478</td>\n      <td>0.975711</td>\n      <td>0.975478</td>\n    </tr>\n    <tr>\n      <th>Perceptron</th>\n      <td>0.975478</td>\n      <td>0.975142</td>\n      <td>0.975478</td>\n    </tr>\n    <tr>\n      <th>Logistic</th>\n      <td>0.963517</td>\n      <td>0.963851</td>\n      <td>0.963517</td>\n    </tr>\n    <tr>\n      <th>KNeighborsClassifier</th>\n      <td>0.924043</td>\n      <td>0.929424</td>\n      <td>0.924043</td>\n    </tr>\n  </tbody>\n</table>\n</div>"
     },
     "execution_count": 12,
     "metadata": {},
     "output_type": "execute_result"
    }
   ],
   "source": [
    "acc_prec_recall_real = {}\n",
    "\n",
    "svc = SVC()\n",
    "acc_prec_recall_real[\"SVC\"] = accuracy_calculator(svc, trainx_real, trainy_real, testx_real, testy_real)\n",
    "\n",
    "percep = Perceptron()\n",
    "acc_prec_recall_real[\"Perceptron\"] = accuracy_calculator(percep, trainx_real, trainy_real, testx_real, testy_real)\n",
    "\n",
    "log = LogisticRegression()\n",
    "acc_prec_recall_real[\"Logistic\"] = accuracy_calculator(log, trainx_real, trainy_real, testx_real, testy_real)\n",
    "\n",
    "KNeighbors = KNeighborsClassifier()\n",
    "acc_prec_recall_real[\"KNeighborsClassifier\"] = accuracy_calculator(KNeighbors, trainx_real, trainy_real, testx_real, testy_real)\n",
    "\n",
    "df_real = pd.DataFrame.from_dict(acc_prec_recall_real, orient='index',\n",
    "                       columns=['Accuracy', 'Precision', 'Recall'])\n",
    "df_real"
   ],
   "metadata": {
    "collapsed": false,
    "pycharm": {
     "name": "#%%\n"
    }
   }
  },
  {
   "cell_type": "markdown",
   "source": [
    "Mismo caso anterior, comparamos los datos profundamente con una gráfica:"
   ],
   "metadata": {
    "collapsed": false
   }
  },
  {
   "cell_type": "markdown",
   "source": [
    "### Comparación de modelos con las diferentes medidas (modelos no bayesianos)."
   ],
   "metadata": {
    "collapsed": false
   }
  },
  {
   "cell_type": "code",
   "execution_count": 13,
   "outputs": [
    {
     "data": {
      "text/plain": "<Figure size 720x288 with 2 Axes>",
      "image/png": "[encoded data removed]"
     },
     "metadata": {
      "needs_background": "light"
     },
     "output_type": "display_data"
    }
   ],
   "source": [
    "fig, ax = plt.subplots(nrows=1, ncols=2)\n",
    "fig.set_figheight(4)\n",
    "fig.set_figwidth(10)\n",
    "\n",
    "etiquetas=[\"SVC\",\"Perceptron\",\"Logistic\",\"KNeighborsClassifier\"]\n",
    "ax = plt.subplot(1, 2, 1)\n",
    "x = np.array(range(4))\n",
    "ax.bar(x, df_binario.loc[:,['Accuracy']].squeeze(), width=0.3, color='blue')\n",
    "ax.bar(x-0.3, df_binario.loc[:,['Precision']].squeeze(), width=0.3, color='red')\n",
    "ax.bar(x-0.6, df_binario.loc[:,['Recall']].squeeze(), width=0.3, color='yellow')\n",
    "ax.set_xlabel('Modelos')\n",
    "ax.set_ylabel('Porcentajes')\n",
    "ax.set_xticks(x-0.3)# values\n",
    "ax.set_xticklabels(etiquetas) # labels\n",
    "ax.set_title('Con los datos binarios')\n",
    "ax.set_ylim(0.8,1)\n",
    "plt.xticks(rotation = 10)\n",
    "ax.grid()\n",
    "\n",
    "\n",
    "ax = plt.subplot(1, 2, 2)\n",
    "ax.bar(x, df_real.loc[:,['Accuracy']].squeeze(), width=0.3, color='blue')\n",
    "ax.bar(x-0.3, df_real.loc[:,['Precision']].squeeze(), width=0.3, color='red')\n",
    "ax.bar(x-0.6, df_real.loc[:,['Recall']].squeeze(), width=0.3, color='yellow')\n",
    "ax.set_xlabel('Modelos')\n",
    "ax.set_ylabel('Porcentajes')\n",
    "ax.set_xticks(x-0.3)# values\n",
    "ax.set_xticklabels(etiquetas) # labels\n",
    "ax.legend(['Accuracy', 'Precision','Recall'],bbox_to_anchor = (1.05, 0.6))\n",
    "ax.set_title('Con los datos reales')\n",
    "ax.set_ylim(0.8,1)\n",
    "plt.xticks(rotation = 10)\n",
    "ax.grid()"
   ],
   "metadata": {
    "collapsed": false,
    "pycharm": {
     "name": "#%%\n"
    }
   }
  },
  {
   "cell_type": "markdown",
   "source": [
    "<p align=\"justify\">\n",
    "En estas dos gráficas, mostramos los resultados de toda la Tarea 2, en el caso de estos modelos, los resultados son bastante mejores. Aunque parezcan parecidos a los de la anterior apartado, si nos fijamos la escala de la gráfica, esta es de 0.8 a 1, y ninguna precisión baja del 90% por lo que podemos decir con seguridad que todos estos modelos se ajustan muy bien a nuestros datos dadas estas tres medidas. Por último cabe añadir, que el modelo de K neighbors es el peor, pueden ser muchas razones como que por ejemplo el número de vecinos no sea el ideal, pero en cualquier caso, la diferencia es mínima.\n",
    "</p>\n"
   ],
   "metadata": {
    "collapsed": false
   }
  },
  {
   "cell_type": "markdown",
   "source": [
    "### Tarea 3: implementación k-fold\n",
    "\n",
    "En esta sección se añadirá una función al módulo validacion_modelo implementado en la práctica 1. Esta función se denominará validacion_cv e implementará la obtención de las particiones siguiendo la validación cruzada. La función está explicada en más profundidad en el módulo \"validación_modelo.py\". A continuación, muestro un ejemplo con 5 particiones y 20 muestras."
   ],
   "metadata": {
    "collapsed": false
   }
  },
  {
   "cell_type": "code",
   "execution_count": 14,
   "outputs": [
    {
     "data": {
      "text/plain": "[(array([ 4,  5,  6,  7,  8,  9, 10, 11, 12, 13, 14, 15, 16, 17, 18, 19]),\n  array([0, 1, 2, 3])),\n (array([ 0,  1,  2,  3,  8,  9, 10, 11, 12, 13, 14, 15, 16, 17, 18, 19]),\n  array([4, 5, 6, 7])),\n (array([ 0,  1,  2,  3,  4,  5,  6,  7, 12, 13, 14, 15, 16, 17, 18, 19]),\n  array([ 8,  9, 10, 11])),\n (array([ 0,  1,  2,  3,  4,  5,  6,  7,  8,  9, 10, 11, 16, 17, 18, 19]),\n  array([12, 13, 14, 15])),\n (array([ 0,  1,  2,  3,  4,  5,  6,  7,  8,  9, 10, 11, 12, 13, 14, 15]),\n  array([16, 17, 18, 19]))]"
     },
     "execution_count": 14,
     "metadata": {},
     "output_type": "execute_result"
    }
   ],
   "source": [
    "validacion_cv(np.zeros(shape=20),n_particiones=5, mezclar=False)"
   ],
   "metadata": {
    "collapsed": false,
    "pycharm": {
     "name": "#%%\n"
    }
   }
  },
  {
   "cell_type": "markdown",
   "source": [
    "Como podemos observar, ha devuelto correctamente una lista de 5 tuplas, las 5 particiones, cuyos elementos son dos ndarrays que representan los correspondientes índices para las muestras train y test de cada partición."
   ],
   "metadata": {
    "collapsed": false
   }
  },
  {
   "cell_type": "markdown",
   "source": [
    "Para probar si funciona de forma correcta, le pongo un caso más complejo con los datos reales con los que hemos trabajado, los índices mezclados, y una semilla. Una vez obtenidos los índices, testeo la función con el modelo LogisticRegressión para confirmar su correcto funcionamiento."
   ],
   "metadata": {
    "collapsed": false
   }
  },
  {
   "cell_type": "code",
   "execution_count": 19,
   "outputs": [
    {
     "name": "stdout",
     "output_type": "stream",
     "text": [
      "El accuracy_score media con el método implementado y el modelo de regresión logística con 10 particiones mezcladas es: \n",
      "0.9721839346730758\n"
     ]
    }
   ],
   "source": [
    "k_fold_test = validacion_cv(X_real,n_particiones=10, mezclar=True, semilla=0)\n",
    "\n",
    "acum_acc=0\n",
    "modelo = LogisticRegression()\n",
    "for (train, test) in k_fold_test:\n",
    "    modelo.fit(X_real.loc[train], y_real.loc[train])\n",
    "    acum_acc += accuracy_score(y_real.loc[test], modelo.predict(X_real.loc[test]))\n",
    "\n",
    "print(\"El accuracy_score media con el método implementado y el modelo de regresión logística con 10 particiones mezcladas es: \\n\" + str(acum_acc/10))"
   ],
   "metadata": {
    "collapsed": false,
    "pycharm": {
     "name": "#%%\n"
    }
   }
  },
  {
   "cell_type": "markdown",
   "source": [
    "Dado que la precision es muy similar al de la tarea 2, podemos suponer que ha funcionado correctamente. Podemos deducir que como se parecen mucho, validamos que los resultados anteriores son correctos y no estaban fuertemente condicionados de como estaba dividido train y test inicialmente."
   ],
   "metadata": {
    "collapsed": false
   }
  }
 ],
 "metadata": {
  "kernelspec": {
   "display_name": "Python 3",
   "language": "python",
   "name": "python3"
  },
  "language_info": {
   "codemirror_mode": {
    "name": "ipython",
    "version": 2
   },
   "file_extension": ".py",
   "mimetype": "text/x-python",
   "name": "python",
   "nbconvert_exporter": "python",
   "pygments_lexer": "ipython2",
   "version": "2.7.6"
  }
 },
 "nbformat": 4,
 "nbformat_minor": 0
}